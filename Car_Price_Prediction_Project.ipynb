{
 "cells": [
  {
   "cell_type": "markdown",
   "id": "790b53a4",
   "metadata": {},
   "source": [
    "# CAR PRICE PREDICTION"
   ]
  },
  {
   "cell_type": "markdown",
   "id": "6ee7c8a8",
   "metadata": {},
   "source": [
    "With the covid 19 impact in the market, we have seen lot of changes in the car market. Now some \n",
    "cars are in demand hence making them costly and some are not in demand hence cheaper. One \n",
    "of our clients works with small traders, who sell used cars. With the change in market due to covid \n",
    "19 impact, our client is facing problems with their previous car price valuation machine learning \n",
    "models. So, they are looking for new machine learning models from new data. We have to make \n",
    "car price valuation model. This project contains two phase - \n",
    "\n",
    "* Data Collection Phase\n",
    "\n",
    "You have to scrape at least 5000 used cars data. You can scrape more data as well, it’s up to you. \n",
    "more the data better the model\n",
    "In this section You need to scrape the data of used cars from websites (Olx, cardekho, Cars24 \n",
    "etc.) You need web scraping for this. You have to fetch data for different locations. The number of\n",
    "columns for data doesn’t have limit, it’s up to you and your creativity. Generally, these columns are \n",
    "Brand, model, variant, manufacturing year, driven kilometers, fuel, number of owners, location and \n",
    "at last target variable Price of the car. This data is to give you a hint about important variables in \n",
    "used car model. You can make changes to it, you can add or you can remove some columns, it \n",
    "completely depends on the website from which you are fetching the data.\n",
    "Try to include all types of cars in your data for example- SUV, Sedans, Coupe, minivan, \n",
    "Hatchback.\n",
    "\n",
    "* Model Building Phase\n",
    "\n",
    "After collecting the data, you need to build a machine learning model. Before model building do all \n",
    "data pre-processing steps. Try different models with different hyper parameters and select the best \n",
    "model.\n",
    "Follow the complete life cycle of data science. Include all the steps like.\n",
    "1. Data Cleaning\n",
    "2. Exploratory Data Analysis\n",
    "3. Data Pre-processing\n",
    "4. Model Building\n",
    "5. Model Evaluation\n",
    "6. Selecting the best model"
   ]
  },
  {
   "cell_type": "code",
   "execution_count": 1,
   "id": "e37494c5",
   "metadata": {},
   "outputs": [],
   "source": [
    "#importing libraries\n",
    "import warnings\n",
    "warnings.simplefilter(\"ignore\")\n",
    "warnings.filterwarnings(\"ignore\")\n",
    "import joblib\n",
    "\n",
    "import pandas as pd\n",
    "import numpy as np\n",
    "import seaborn as sns\n",
    "import matplotlib.pyplot as plt\n",
    "%matplotlib inline\n",
    "\n",
    "\n",
    "from sklearn import metrics\n",
    "from scipy.stats import zscore\n",
    "from sklearn.preprocessing import OrdinalEncoder\n",
    "from sklearn.preprocessing import StandardScaler\n",
    "from sklearn.model_selection import train_test_split\n",
    "\n",
    "from sklearn.linear_model import LinearRegression, Ridge, Lasso\n",
    "from sklearn.svm import SVR\n",
    "from sklearn.tree import DecisionTreeRegressor\n",
    "from sklearn.ensemble import RandomForestRegressor\n",
    "from sklearn.neighbors import KNeighborsRegressor\n",
    "from sklearn.ensemble import AdaBoostRegressor\n",
    "from sklearn.ensemble import ExtraTreesRegressor\n",
    "from sklearn.ensemble import GradientBoostingRegressor\n",
    "\n",
    "from sklearn.metrics import r2_score\n",
    "from sklearn.metrics import mean_squared_error\n",
    "from sklearn.model_selection import cross_val_score\n",
    "from sklearn.model_selection import GridSearchCV"
   ]
  },
  {
   "cell_type": "code",
   "execution_count": 2,
   "id": "5b57d45c",
   "metadata": {},
   "outputs": [
    {
     "data": {
      "text/html": [
       "<div>\n",
       "<style scoped>\n",
       "    .dataframe tbody tr th:only-of-type {\n",
       "        vertical-align: middle;\n",
       "    }\n",
       "\n",
       "    .dataframe tbody tr th {\n",
       "        vertical-align: top;\n",
       "    }\n",
       "\n",
       "    .dataframe thead th {\n",
       "        text-align: right;\n",
       "    }\n",
       "</style>\n",
       "<table border=\"1\" class=\"dataframe\">\n",
       "  <thead>\n",
       "    <tr style=\"text-align: right;\">\n",
       "      <th></th>\n",
       "      <th>Used Car Model</th>\n",
       "      <th>Year of Manufacture</th>\n",
       "      <th>Kilometers Driven</th>\n",
       "      <th>Fuel Type</th>\n",
       "      <th>Transmission Type</th>\n",
       "      <th>Used Car Price</th>\n",
       "    </tr>\n",
       "  </thead>\n",
       "  <tbody>\n",
       "    <tr>\n",
       "      <th>0</th>\n",
       "      <td>Hyundai</td>\n",
       "      <td>2017</td>\n",
       "      <td>2,200 km</td>\n",
       "      <td>Petrol</td>\n",
       "      <td>Manual</td>\n",
       "      <td>5,25,000</td>\n",
       "    </tr>\n",
       "    <tr>\n",
       "      <th>1</th>\n",
       "      <td>Hyundai</td>\n",
       "      <td>2013</td>\n",
       "      <td>91,500 km</td>\n",
       "      <td>Diesel</td>\n",
       "      <td>Manual</td>\n",
       "      <td>5,95,000</td>\n",
       "    </tr>\n",
       "    <tr>\n",
       "      <th>2</th>\n",
       "      <td>Ford</td>\n",
       "      <td>2017</td>\n",
       "      <td>36,000 km</td>\n",
       "      <td>Diesel</td>\n",
       "      <td>Manual</td>\n",
       "      <td>7,75,000</td>\n",
       "    </tr>\n",
       "    <tr>\n",
       "      <th>3</th>\n",
       "      <td>Honda</td>\n",
       "      <td>2015</td>\n",
       "      <td>90,000 km</td>\n",
       "      <td>Diesel</td>\n",
       "      <td>Manual</td>\n",
       "      <td>4,00,000</td>\n",
       "    </tr>\n",
       "    <tr>\n",
       "      <th>4</th>\n",
       "      <td>Maruti Suzuki</td>\n",
       "      <td>2010</td>\n",
       "      <td>40,000 km</td>\n",
       "      <td>Petrol</td>\n",
       "      <td>Manual</td>\n",
       "      <td>2,30,000</td>\n",
       "    </tr>\n",
       "    <tr>\n",
       "      <th>...</th>\n",
       "      <td>...</td>\n",
       "      <td>...</td>\n",
       "      <td>...</td>\n",
       "      <td>...</td>\n",
       "      <td>...</td>\n",
       "      <td>...</td>\n",
       "    </tr>\n",
       "    <tr>\n",
       "      <th>9995</th>\n",
       "      <td>Hyundai</td>\n",
       "      <td>2012</td>\n",
       "      <td>65,000 km</td>\n",
       "      <td>Petrol</td>\n",
       "      <td>Manual</td>\n",
       "      <td>3,25,000</td>\n",
       "    </tr>\n",
       "    <tr>\n",
       "      <th>9996</th>\n",
       "      <td>Maruti Suzuki</td>\n",
       "      <td>2018</td>\n",
       "      <td>85,000 km</td>\n",
       "      <td>CNG &amp; Hybrids</td>\n",
       "      <td>Manual</td>\n",
       "      <td>2,90,000</td>\n",
       "    </tr>\n",
       "    <tr>\n",
       "      <th>9997</th>\n",
       "      <td>Maruti Suzuki</td>\n",
       "      <td>2010</td>\n",
       "      <td>72,000 km</td>\n",
       "      <td>Petrol</td>\n",
       "      <td>Manual</td>\n",
       "      <td>3,20,000</td>\n",
       "    </tr>\n",
       "    <tr>\n",
       "      <th>9998</th>\n",
       "      <td>Tata</td>\n",
       "      <td>2012</td>\n",
       "      <td>70,000 km</td>\n",
       "      <td>Diesel</td>\n",
       "      <td>Manual</td>\n",
       "      <td>1,85,000</td>\n",
       "    </tr>\n",
       "    <tr>\n",
       "      <th>9999</th>\n",
       "      <td>Ford</td>\n",
       "      <td>2018</td>\n",
       "      <td>53,764 km</td>\n",
       "      <td>Diesel</td>\n",
       "      <td>Manual</td>\n",
       "      <td>8,75,000</td>\n",
       "    </tr>\n",
       "  </tbody>\n",
       "</table>\n",
       "<p>10000 rows × 6 columns</p>\n",
       "</div>"
      ],
      "text/plain": [
       "     Used Car Model Year of Manufacture Kilometers Driven      Fuel Type  \\\n",
       "0           Hyundai                2017          2,200 km         Petrol   \n",
       "1           Hyundai                2013         91,500 km         Diesel   \n",
       "2              Ford                2017         36,000 km         Diesel   \n",
       "3             Honda                2015         90,000 km         Diesel   \n",
       "4     Maruti Suzuki                2010         40,000 km         Petrol   \n",
       "...             ...                 ...               ...            ...   \n",
       "9995        Hyundai                2012         65,000 km         Petrol   \n",
       "9996  Maruti Suzuki                2018         85,000 km  CNG & Hybrids   \n",
       "9997  Maruti Suzuki                2010         72,000 km         Petrol   \n",
       "9998           Tata                2012         70,000 km         Diesel   \n",
       "9999           Ford                2018         53,764 km         Diesel   \n",
       "\n",
       "     Transmission Type Used Car Price  \n",
       "0               Manual       5,25,000  \n",
       "1               Manual       5,95,000  \n",
       "2               Manual       7,75,000  \n",
       "3               Manual       4,00,000  \n",
       "4               Manual       2,30,000  \n",
       "...                ...            ...  \n",
       "9995            Manual       3,25,000  \n",
       "9996            Manual       2,90,000  \n",
       "9997            Manual       3,20,000  \n",
       "9998            Manual       1,85,000  \n",
       "9999            Manual       8,75,000  \n",
       "\n",
       "[10000 rows x 6 columns]"
      ]
     },
     "execution_count": 2,
     "metadata": {},
     "output_type": "execute_result"
    }
   ],
   "source": [
    "df = pd.read_csv(r\"C:/Users/mayuk/Car_Data.csv\")\n",
    "df"
   ]
  },
  {
   "cell_type": "code",
   "execution_count": 3,
   "id": "ac9cd67c",
   "metadata": {},
   "outputs": [
    {
     "data": {
      "text/plain": [
       "(10000, 6)"
      ]
     },
     "execution_count": 3,
     "metadata": {},
     "output_type": "execute_result"
    }
   ],
   "source": [
    "df.shape"
   ]
  },
  {
   "cell_type": "markdown",
   "id": "a7d9e6b5",
   "metadata": {},
   "source": [
    "**Column Description:**\n",
    "\n",
    "- Used Car Model - This shows the car model names\n",
    "- Year of Manufacture - Gives us the year in which the car was made\n",
    "- Kilometers Driven - Number of kilometers the car the driven reflecting on the Odometer\n",
    "- Fuel Type - Shows the fuel type used by the vehicle\n",
    "- Transmission Type - Gives us the manual or automatic gear shifting mechanism\n",
    "- Used Car Price - Lists the selling price of the used cars"
   ]
  },
  {
   "cell_type": "code",
   "execution_count": 4,
   "id": "71f2a276",
   "metadata": {},
   "outputs": [
    {
     "name": "stdout",
     "output_type": "stream",
     "text": [
      "<class 'pandas.core.frame.DataFrame'>\n",
      "RangeIndex: 10000 entries, 0 to 9999\n",
      "Data columns (total 6 columns):\n",
      " #   Column               Non-Null Count  Dtype \n",
      "---  ------               --------------  ----- \n",
      " 0   Used Car Model       10000 non-null  object\n",
      " 1   Year of Manufacture  10000 non-null  object\n",
      " 2   Kilometers Driven    10000 non-null  object\n",
      " 3   Fuel Type            10000 non-null  object\n",
      " 4   Transmission Type    10000 non-null  object\n",
      " 5   Used Car Price       10000 non-null  object\n",
      "dtypes: object(6)\n",
      "memory usage: 468.9+ KB\n"
     ]
    }
   ],
   "source": [
    "#Checking the info() method to get an a general idea about our data\n",
    "df.info()"
   ]
  },
  {
   "cell_type": "code",
   "execution_count": 5,
   "id": "f0f014ed",
   "metadata": {},
   "outputs": [
    {
     "data": {
      "text/plain": [
       "Used Car Model         0\n",
       "Year of Manufacture    0\n",
       "Kilometers Driven      0\n",
       "Fuel Type              0\n",
       "Transmission Type      0\n",
       "Used Car Price         0\n",
       "dtype: int64"
      ]
     },
     "execution_count": 5,
     "metadata": {},
     "output_type": "execute_result"
    }
   ],
   "source": [
    "df.isna().sum() # checking for missing values"
   ]
  },
  {
   "cell_type": "code",
   "execution_count": 6,
   "id": "fcc90c68",
   "metadata": {},
   "outputs": [
    {
     "data": {
      "text/plain": [
       "<AxesSubplot:>"
      ]
     },
     "execution_count": 6,
     "metadata": {},
     "output_type": "execute_result"
    },
    {
     "data": {
      "image/png": "[encoded data removed]",
      "text/plain": [
       "<Figure size 432x288 with 2 Axes>"
      ]
     },
     "metadata": {
      "needs_background": "light"
     },
     "output_type": "display_data"
    }
   ],
   "source": [
    "import seaborn as sns\n",
    "\n",
    "sns.heatmap(df.isnull()) #Looking for null values if any, in heatmap"
   ]
  },
  {
   "cell_type": "markdown",
   "id": "4927502d",
   "metadata": {},
   "source": [
    "We can see there is no missing values."
   ]
  },
  {
   "cell_type": "code",
   "execution_count": 7,
   "id": "1b51bd8d",
   "metadata": {},
   "outputs": [
    {
     "name": "stdout",
     "output_type": "stream",
     "text": [
      "Transmission Type\n",
      "Manual       8408\n",
      "Automatic    1402\n",
      "-             190\n",
      "Name: Transmission Type, dtype: int64\n",
      "========================================================================================================================\n",
      "Fuel Type\n",
      "Diesel           5345\n",
      "Petrol           4386\n",
      "CNG & Hybrids     108\n",
      "CNG                57\n",
      "-                  56\n",
      "LPG                48\n",
      "Name: Fuel Type, dtype: int64\n",
      "========================================================================================================================\n",
      "Year of Manufacture\n",
      "2017    1099\n",
      "2016    1021\n",
      "2018     983\n",
      "2015     975\n",
      "2012     844\n",
      "2013     802\n",
      "2014     798\n",
      "2011     733\n",
      "2019     642\n",
      "2010     519\n",
      "2009     366\n",
      "2008     300\n",
      "2007     207\n",
      "2006     148\n",
      "2020     132\n",
      "2005     112\n",
      "2004      71\n",
      "2003      55\n",
      "2002      45\n",
      "-         44\n",
      "1999      24\n",
      "2000      24\n",
      "2001      16\n",
      "1997      11\n",
      "2021      10\n",
      "1998       9\n",
      "1996       3\n",
      "1994       3\n",
      "1995       2\n",
      "1983       1\n",
      "1991       1\n",
      "Name: Year of Manufacture, dtype: int64\n",
      "========================================================================================================================\n"
     ]
    }
   ],
   "source": [
    "value = [\"Transmission Type\", \"Fuel Type\", \"Year of Manufacture\"]\n",
    "for col in value:\n",
    "    print(col)\n",
    "    print(df[col].value_counts())\n",
    "    print(\"=\"*120)"
   ]
  },
  {
   "cell_type": "code",
   "execution_count": 8,
   "id": "9f823466",
   "metadata": {},
   "outputs": [
    {
     "data": {
      "text/html": [
       "<div>\n",
       "<style scoped>\n",
       "    .dataframe tbody tr th:only-of-type {\n",
       "        vertical-align: middle;\n",
       "    }\n",
       "\n",
       "    .dataframe tbody tr th {\n",
       "        vertical-align: top;\n",
       "    }\n",
       "\n",
       "    .dataframe thead th {\n",
       "        text-align: right;\n",
       "    }\n",
       "</style>\n",
       "<table border=\"1\" class=\"dataframe\">\n",
       "  <thead>\n",
       "    <tr style=\"text-align: right;\">\n",
       "      <th></th>\n",
       "      <th>Used Car Model</th>\n",
       "      <th>Year of Manufacture</th>\n",
       "      <th>Kilometers Driven</th>\n",
       "      <th>Fuel Type</th>\n",
       "      <th>Transmission Type</th>\n",
       "      <th>Used Car Price</th>\n",
       "    </tr>\n",
       "  </thead>\n",
       "  <tbody>\n",
       "    <tr>\n",
       "      <th>0</th>\n",
       "      <td>Hyundai</td>\n",
       "      <td>2017</td>\n",
       "      <td>2200</td>\n",
       "      <td>Petrol</td>\n",
       "      <td>Manual</td>\n",
       "      <td>5,25,000</td>\n",
       "    </tr>\n",
       "    <tr>\n",
       "      <th>1</th>\n",
       "      <td>Hyundai</td>\n",
       "      <td>2013</td>\n",
       "      <td>91500</td>\n",
       "      <td>Diesel</td>\n",
       "      <td>Manual</td>\n",
       "      <td>5,95,000</td>\n",
       "    </tr>\n",
       "    <tr>\n",
       "      <th>2</th>\n",
       "      <td>Ford</td>\n",
       "      <td>2017</td>\n",
       "      <td>36000</td>\n",
       "      <td>Diesel</td>\n",
       "      <td>Manual</td>\n",
       "      <td>7,75,000</td>\n",
       "    </tr>\n",
       "    <tr>\n",
       "      <th>3</th>\n",
       "      <td>Honda</td>\n",
       "      <td>2015</td>\n",
       "      <td>90000</td>\n",
       "      <td>Diesel</td>\n",
       "      <td>Manual</td>\n",
       "      <td>4,00,000</td>\n",
       "    </tr>\n",
       "    <tr>\n",
       "      <th>4</th>\n",
       "      <td>Maruti Suzuki</td>\n",
       "      <td>2010</td>\n",
       "      <td>40000</td>\n",
       "      <td>Petrol</td>\n",
       "      <td>Manual</td>\n",
       "      <td>2,30,000</td>\n",
       "    </tr>\n",
       "    <tr>\n",
       "      <th>...</th>\n",
       "      <td>...</td>\n",
       "      <td>...</td>\n",
       "      <td>...</td>\n",
       "      <td>...</td>\n",
       "      <td>...</td>\n",
       "      <td>...</td>\n",
       "    </tr>\n",
       "    <tr>\n",
       "      <th>9995</th>\n",
       "      <td>Hyundai</td>\n",
       "      <td>2012</td>\n",
       "      <td>65000</td>\n",
       "      <td>Petrol</td>\n",
       "      <td>Manual</td>\n",
       "      <td>3,25,000</td>\n",
       "    </tr>\n",
       "    <tr>\n",
       "      <th>9996</th>\n",
       "      <td>Maruti Suzuki</td>\n",
       "      <td>2018</td>\n",
       "      <td>85000</td>\n",
       "      <td>CNG &amp; Hybrids</td>\n",
       "      <td>Manual</td>\n",
       "      <td>2,90,000</td>\n",
       "    </tr>\n",
       "    <tr>\n",
       "      <th>9997</th>\n",
       "      <td>Maruti Suzuki</td>\n",
       "      <td>2010</td>\n",
       "      <td>72000</td>\n",
       "      <td>Petrol</td>\n",
       "      <td>Manual</td>\n",
       "      <td>3,20,000</td>\n",
       "    </tr>\n",
       "    <tr>\n",
       "      <th>9998</th>\n",
       "      <td>Tata</td>\n",
       "      <td>2012</td>\n",
       "      <td>70000</td>\n",
       "      <td>Diesel</td>\n",
       "      <td>Manual</td>\n",
       "      <td>1,85,000</td>\n",
       "    </tr>\n",
       "    <tr>\n",
       "      <th>9999</th>\n",
       "      <td>Ford</td>\n",
       "      <td>2018</td>\n",
       "      <td>53764</td>\n",
       "      <td>Diesel</td>\n",
       "      <td>Manual</td>\n",
       "      <td>8,75,000</td>\n",
       "    </tr>\n",
       "  </tbody>\n",
       "</table>\n",
       "<p>10000 rows × 6 columns</p>\n",
       "</div>"
      ],
      "text/plain": [
       "     Used Car Model Year of Manufacture  Kilometers Driven      Fuel Type  \\\n",
       "0           Hyundai                2017               2200         Petrol   \n",
       "1           Hyundai                2013              91500         Diesel   \n",
       "2              Ford                2017              36000         Diesel   \n",
       "3             Honda                2015              90000         Diesel   \n",
       "4     Maruti Suzuki                2010              40000         Petrol   \n",
       "...             ...                 ...                ...            ...   \n",
       "9995        Hyundai                2012              65000         Petrol   \n",
       "9996  Maruti Suzuki                2018              85000  CNG & Hybrids   \n",
       "9997  Maruti Suzuki                2010              72000         Petrol   \n",
       "9998           Tata                2012              70000         Diesel   \n",
       "9999           Ford                2018              53764         Diesel   \n",
       "\n",
       "     Transmission Type Used Car Price  \n",
       "0               Manual       5,25,000  \n",
       "1               Manual       5,95,000  \n",
       "2               Manual       7,75,000  \n",
       "3               Manual       4,00,000  \n",
       "4               Manual       2,30,000  \n",
       "...                ...            ...  \n",
       "9995            Manual       3,25,000  \n",
       "9996            Manual       2,90,000  \n",
       "9997            Manual       3,20,000  \n",
       "9998            Manual       1,85,000  \n",
       "9999            Manual       8,75,000  \n",
       "\n",
       "[10000 rows x 6 columns]"
      ]
     },
     "execution_count": 8,
     "metadata": {},
     "output_type": "execute_result"
    }
   ],
   "source": [
    "# Data pre processing\n",
    "\n",
    "df[\"Kilometers Driven\"]=df[\"Kilometers Driven\"].apply(lambda x: x.replace(',','') if x!='-' else '-')\n",
    "df[\"Kilometers Driven\"]=df[\"Kilometers Driven\"].apply(lambda x: int(x.split(' ')[0]) if x!='-' else 0)\n",
    "df"
   ]
  },
  {
   "cell_type": "code",
   "execution_count": 9,
   "id": "a412613f",
   "metadata": {},
   "outputs": [
    {
     "data": {
      "text/html": [
       "<div>\n",
       "<style scoped>\n",
       "    .dataframe tbody tr th:only-of-type {\n",
       "        vertical-align: middle;\n",
       "    }\n",
       "\n",
       "    .dataframe tbody tr th {\n",
       "        vertical-align: top;\n",
       "    }\n",
       "\n",
       "    .dataframe thead th {\n",
       "        text-align: right;\n",
       "    }\n",
       "</style>\n",
       "<table border=\"1\" class=\"dataframe\">\n",
       "  <thead>\n",
       "    <tr style=\"text-align: right;\">\n",
       "      <th></th>\n",
       "      <th>Used Car Model</th>\n",
       "      <th>Year of Manufacture</th>\n",
       "      <th>Kilometers Driven</th>\n",
       "      <th>Fuel Type</th>\n",
       "      <th>Transmission Type</th>\n",
       "      <th>Used Car Price</th>\n",
       "    </tr>\n",
       "  </thead>\n",
       "  <tbody>\n",
       "    <tr>\n",
       "      <th>0</th>\n",
       "      <td>Hyundai</td>\n",
       "      <td>2017</td>\n",
       "      <td>2200</td>\n",
       "      <td>Petrol</td>\n",
       "      <td>Manual</td>\n",
       "      <td>525000.0</td>\n",
       "    </tr>\n",
       "    <tr>\n",
       "      <th>1</th>\n",
       "      <td>Hyundai</td>\n",
       "      <td>2013</td>\n",
       "      <td>91500</td>\n",
       "      <td>Diesel</td>\n",
       "      <td>Manual</td>\n",
       "      <td>595000.0</td>\n",
       "    </tr>\n",
       "    <tr>\n",
       "      <th>2</th>\n",
       "      <td>Ford</td>\n",
       "      <td>2017</td>\n",
       "      <td>36000</td>\n",
       "      <td>Diesel</td>\n",
       "      <td>Manual</td>\n",
       "      <td>775000.0</td>\n",
       "    </tr>\n",
       "    <tr>\n",
       "      <th>3</th>\n",
       "      <td>Honda</td>\n",
       "      <td>2015</td>\n",
       "      <td>90000</td>\n",
       "      <td>Diesel</td>\n",
       "      <td>Manual</td>\n",
       "      <td>400000.0</td>\n",
       "    </tr>\n",
       "    <tr>\n",
       "      <th>4</th>\n",
       "      <td>Maruti Suzuki</td>\n",
       "      <td>2010</td>\n",
       "      <td>40000</td>\n",
       "      <td>Petrol</td>\n",
       "      <td>Manual</td>\n",
       "      <td>230000.0</td>\n",
       "    </tr>\n",
       "    <tr>\n",
       "      <th>...</th>\n",
       "      <td>...</td>\n",
       "      <td>...</td>\n",
       "      <td>...</td>\n",
       "      <td>...</td>\n",
       "      <td>...</td>\n",
       "      <td>...</td>\n",
       "    </tr>\n",
       "    <tr>\n",
       "      <th>9995</th>\n",
       "      <td>Hyundai</td>\n",
       "      <td>2012</td>\n",
       "      <td>65000</td>\n",
       "      <td>Petrol</td>\n",
       "      <td>Manual</td>\n",
       "      <td>325000.0</td>\n",
       "    </tr>\n",
       "    <tr>\n",
       "      <th>9996</th>\n",
       "      <td>Maruti Suzuki</td>\n",
       "      <td>2018</td>\n",
       "      <td>85000</td>\n",
       "      <td>CNG &amp; Hybrids</td>\n",
       "      <td>Manual</td>\n",
       "      <td>290000.0</td>\n",
       "    </tr>\n",
       "    <tr>\n",
       "      <th>9997</th>\n",
       "      <td>Maruti Suzuki</td>\n",
       "      <td>2010</td>\n",
       "      <td>72000</td>\n",
       "      <td>Petrol</td>\n",
       "      <td>Manual</td>\n",
       "      <td>320000.0</td>\n",
       "    </tr>\n",
       "    <tr>\n",
       "      <th>9998</th>\n",
       "      <td>Tata</td>\n",
       "      <td>2012</td>\n",
       "      <td>70000</td>\n",
       "      <td>Diesel</td>\n",
       "      <td>Manual</td>\n",
       "      <td>185000.0</td>\n",
       "    </tr>\n",
       "    <tr>\n",
       "      <th>9999</th>\n",
       "      <td>Ford</td>\n",
       "      <td>2018</td>\n",
       "      <td>53764</td>\n",
       "      <td>Diesel</td>\n",
       "      <td>Manual</td>\n",
       "      <td>875000.0</td>\n",
       "    </tr>\n",
       "  </tbody>\n",
       "</table>\n",
       "<p>10000 rows × 6 columns</p>\n",
       "</div>"
      ],
      "text/plain": [
       "     Used Car Model Year of Manufacture  Kilometers Driven      Fuel Type  \\\n",
       "0           Hyundai                2017               2200         Petrol   \n",
       "1           Hyundai                2013              91500         Diesel   \n",
       "2              Ford                2017              36000         Diesel   \n",
       "3             Honda                2015              90000         Diesel   \n",
       "4     Maruti Suzuki                2010              40000         Petrol   \n",
       "...             ...                 ...                ...            ...   \n",
       "9995        Hyundai                2012              65000         Petrol   \n",
       "9996  Maruti Suzuki                2018              85000  CNG & Hybrids   \n",
       "9997  Maruti Suzuki                2010              72000         Petrol   \n",
       "9998           Tata                2012              70000         Diesel   \n",
       "9999           Ford                2018              53764         Diesel   \n",
       "\n",
       "     Transmission Type  Used Car Price  \n",
       "0               Manual        525000.0  \n",
       "1               Manual        595000.0  \n",
       "2               Manual        775000.0  \n",
       "3               Manual        400000.0  \n",
       "4               Manual        230000.0  \n",
       "...                ...             ...  \n",
       "9995            Manual        325000.0  \n",
       "9996            Manual        290000.0  \n",
       "9997            Manual        320000.0  \n",
       "9998            Manual        185000.0  \n",
       "9999            Manual        875000.0  \n",
       "\n",
       "[10000 rows x 6 columns]"
      ]
     },
     "execution_count": 9,
     "metadata": {},
     "output_type": "execute_result"
    }
   ],
   "source": [
    "try:\n",
    "    df[\"Used Car Price\"]=df[\"Used Car Price\"].apply(lambda x: x.split(' ')[1] if x!='-' else '0,0')\n",
    "except IndexError:\n",
    "    pass\n",
    "\n",
    "try:\n",
    "    df[\"Used Car Price\"]=df[\"Used Car Price\"].apply(lambda x: str(x.replace(',', '')))\n",
    "except ValueError:\n",
    "    pass\n",
    "\n",
    "df[\"Used Car Price\"]=df[\"Used Car Price\"].str.strip() # removing extra white space from the column records\n",
    "df[\"Used Car Price\"]=pd.to_numeric(df[\"Used Car Price\"].str.replace('-','0'), errors='coerce')\n",
    "df[\"Used Car Price\"]=df[\"Used Car Price\"].astype(float) # converting object to float data type\n",
    "df"
   ]
  },
  {
   "cell_type": "markdown",
   "id": "e3b3e9b1",
   "metadata": {},
   "source": [
    "Our target label contained price values but was stored as object datatype therefore we first ensured that it is changed to proper numeric data and then converted to float data type."
   ]
  },
  {
   "cell_type": "code",
   "execution_count": 10,
   "id": "bda45a47",
   "metadata": {},
   "outputs": [
    {
     "data": {
      "text/html": [
       "<div>\n",
       "<style scoped>\n",
       "    .dataframe tbody tr th:only-of-type {\n",
       "        vertical-align: middle;\n",
       "    }\n",
       "\n",
       "    .dataframe tbody tr th {\n",
       "        vertical-align: top;\n",
       "    }\n",
       "\n",
       "    .dataframe thead th {\n",
       "        text-align: right;\n",
       "    }\n",
       "</style>\n",
       "<table border=\"1\" class=\"dataframe\">\n",
       "  <thead>\n",
       "    <tr style=\"text-align: right;\">\n",
       "      <th></th>\n",
       "      <th>Used Car Model</th>\n",
       "      <th>Year of Manufacture</th>\n",
       "      <th>Kilometers Driven</th>\n",
       "      <th>Fuel Type</th>\n",
       "      <th>Transmission Type</th>\n",
       "      <th>Used Car Price</th>\n",
       "    </tr>\n",
       "  </thead>\n",
       "  <tbody>\n",
       "    <tr>\n",
       "      <th>0</th>\n",
       "      <td>Hyundai</td>\n",
       "      <td>2017</td>\n",
       "      <td>2200</td>\n",
       "      <td>Petrol</td>\n",
       "      <td>Manual</td>\n",
       "      <td>525000.0</td>\n",
       "    </tr>\n",
       "    <tr>\n",
       "      <th>1</th>\n",
       "      <td>Hyundai</td>\n",
       "      <td>2013</td>\n",
       "      <td>91500</td>\n",
       "      <td>Diesel</td>\n",
       "      <td>Manual</td>\n",
       "      <td>595000.0</td>\n",
       "    </tr>\n",
       "    <tr>\n",
       "      <th>2</th>\n",
       "      <td>Ford</td>\n",
       "      <td>2017</td>\n",
       "      <td>36000</td>\n",
       "      <td>Diesel</td>\n",
       "      <td>Manual</td>\n",
       "      <td>775000.0</td>\n",
       "    </tr>\n",
       "    <tr>\n",
       "      <th>3</th>\n",
       "      <td>Honda</td>\n",
       "      <td>2015</td>\n",
       "      <td>90000</td>\n",
       "      <td>Diesel</td>\n",
       "      <td>Manual</td>\n",
       "      <td>400000.0</td>\n",
       "    </tr>\n",
       "    <tr>\n",
       "      <th>4</th>\n",
       "      <td>Maruti Suzuki</td>\n",
       "      <td>2010</td>\n",
       "      <td>40000</td>\n",
       "      <td>Petrol</td>\n",
       "      <td>Manual</td>\n",
       "      <td>230000.0</td>\n",
       "    </tr>\n",
       "    <tr>\n",
       "      <th>...</th>\n",
       "      <td>...</td>\n",
       "      <td>...</td>\n",
       "      <td>...</td>\n",
       "      <td>...</td>\n",
       "      <td>...</td>\n",
       "      <td>...</td>\n",
       "    </tr>\n",
       "    <tr>\n",
       "      <th>9995</th>\n",
       "      <td>Hyundai</td>\n",
       "      <td>2012</td>\n",
       "      <td>65000</td>\n",
       "      <td>Petrol</td>\n",
       "      <td>Manual</td>\n",
       "      <td>325000.0</td>\n",
       "    </tr>\n",
       "    <tr>\n",
       "      <th>9996</th>\n",
       "      <td>Maruti Suzuki</td>\n",
       "      <td>2018</td>\n",
       "      <td>85000</td>\n",
       "      <td>CNG &amp; Hybrids</td>\n",
       "      <td>Manual</td>\n",
       "      <td>290000.0</td>\n",
       "    </tr>\n",
       "    <tr>\n",
       "      <th>9997</th>\n",
       "      <td>Maruti Suzuki</td>\n",
       "      <td>2010</td>\n",
       "      <td>72000</td>\n",
       "      <td>Petrol</td>\n",
       "      <td>Manual</td>\n",
       "      <td>320000.0</td>\n",
       "    </tr>\n",
       "    <tr>\n",
       "      <th>9998</th>\n",
       "      <td>Tata</td>\n",
       "      <td>2012</td>\n",
       "      <td>70000</td>\n",
       "      <td>Diesel</td>\n",
       "      <td>Manual</td>\n",
       "      <td>185000.0</td>\n",
       "    </tr>\n",
       "    <tr>\n",
       "      <th>9999</th>\n",
       "      <td>Ford</td>\n",
       "      <td>2018</td>\n",
       "      <td>53764</td>\n",
       "      <td>Diesel</td>\n",
       "      <td>Manual</td>\n",
       "      <td>875000.0</td>\n",
       "    </tr>\n",
       "  </tbody>\n",
       "</table>\n",
       "<p>10000 rows × 6 columns</p>\n",
       "</div>"
      ],
      "text/plain": [
       "     Used Car Model  Year of Manufacture  Kilometers Driven      Fuel Type  \\\n",
       "0           Hyundai                 2017               2200         Petrol   \n",
       "1           Hyundai                 2013              91500         Diesel   \n",
       "2              Ford                 2017              36000         Diesel   \n",
       "3             Honda                 2015              90000         Diesel   \n",
       "4     Maruti Suzuki                 2010              40000         Petrol   \n",
       "...             ...                  ...                ...            ...   \n",
       "9995        Hyundai                 2012              65000         Petrol   \n",
       "9996  Maruti Suzuki                 2018              85000  CNG & Hybrids   \n",
       "9997  Maruti Suzuki                 2010              72000         Petrol   \n",
       "9998           Tata                 2012              70000         Diesel   \n",
       "9999           Ford                 2018              53764         Diesel   \n",
       "\n",
       "     Transmission Type  Used Car Price  \n",
       "0               Manual        525000.0  \n",
       "1               Manual        595000.0  \n",
       "2               Manual        775000.0  \n",
       "3               Manual        400000.0  \n",
       "4               Manual        230000.0  \n",
       "...                ...             ...  \n",
       "9995            Manual        325000.0  \n",
       "9996            Manual        290000.0  \n",
       "9997            Manual        320000.0  \n",
       "9998            Manual        185000.0  \n",
       "9999            Manual        875000.0  \n",
       "\n",
       "[10000 rows x 6 columns]"
      ]
     },
     "execution_count": 10,
     "metadata": {},
     "output_type": "execute_result"
    }
   ],
   "source": [
    "df[\"Year of Manufacture\"]=df[\"Year of Manufacture\"].apply(lambda x: int(x.strip()[0:4]) if x!='-' else 0)\n",
    "median_val_year=df[\"Year of Manufacture\"].median()\n",
    "df[\"Year of Manufacture\"]=df[\"Year of Manufacture\"].apply(lambda x: x if x!=0 else median_val_year)\n",
    "df[\"Year of Manufacture\"]=df[\"Year of Manufacture\"].astype(int)\n",
    "df"
   ]
  },
  {
   "cell_type": "markdown",
   "id": "b1c9344b",
   "metadata": {},
   "source": [
    "Now we need to change the year from object to integer datatype but before that we have removed all \"-\" and replaced them with the median year value."
   ]
  },
  {
   "cell_type": "code",
   "execution_count": 11,
   "id": "d7c5e8fc",
   "metadata": {},
   "outputs": [
    {
     "data": {
      "text/html": [
       "<div>\n",
       "<style scoped>\n",
       "    .dataframe tbody tr th:only-of-type {\n",
       "        vertical-align: middle;\n",
       "    }\n",
       "\n",
       "    .dataframe tbody tr th {\n",
       "        vertical-align: top;\n",
       "    }\n",
       "\n",
       "    .dataframe thead th {\n",
       "        text-align: right;\n",
       "    }\n",
       "</style>\n",
       "<table border=\"1\" class=\"dataframe\">\n",
       "  <thead>\n",
       "    <tr style=\"text-align: right;\">\n",
       "      <th></th>\n",
       "      <th>Used Car Model</th>\n",
       "      <th>Year of Manufacture</th>\n",
       "      <th>Kilometers Driven</th>\n",
       "      <th>Fuel Type</th>\n",
       "      <th>Transmission Type</th>\n",
       "      <th>Used Car Price</th>\n",
       "    </tr>\n",
       "  </thead>\n",
       "  <tbody>\n",
       "    <tr>\n",
       "      <th>0</th>\n",
       "      <td>Hyundai</td>\n",
       "      <td>2017</td>\n",
       "      <td>2200</td>\n",
       "      <td>Petrol</td>\n",
       "      <td>Manual</td>\n",
       "      <td>525000.0</td>\n",
       "    </tr>\n",
       "    <tr>\n",
       "      <th>1</th>\n",
       "      <td>Hyundai</td>\n",
       "      <td>2013</td>\n",
       "      <td>91500</td>\n",
       "      <td>Diesel</td>\n",
       "      <td>Manual</td>\n",
       "      <td>595000.0</td>\n",
       "    </tr>\n",
       "    <tr>\n",
       "      <th>2</th>\n",
       "      <td>Ford</td>\n",
       "      <td>2017</td>\n",
       "      <td>36000</td>\n",
       "      <td>Diesel</td>\n",
       "      <td>Manual</td>\n",
       "      <td>775000.0</td>\n",
       "    </tr>\n",
       "    <tr>\n",
       "      <th>3</th>\n",
       "      <td>Honda</td>\n",
       "      <td>2015</td>\n",
       "      <td>90000</td>\n",
       "      <td>Diesel</td>\n",
       "      <td>Manual</td>\n",
       "      <td>400000.0</td>\n",
       "    </tr>\n",
       "    <tr>\n",
       "      <th>4</th>\n",
       "      <td>Maruti Suzuki</td>\n",
       "      <td>2010</td>\n",
       "      <td>40000</td>\n",
       "      <td>Petrol</td>\n",
       "      <td>Manual</td>\n",
       "      <td>230000.0</td>\n",
       "    </tr>\n",
       "    <tr>\n",
       "      <th>...</th>\n",
       "      <td>...</td>\n",
       "      <td>...</td>\n",
       "      <td>...</td>\n",
       "      <td>...</td>\n",
       "      <td>...</td>\n",
       "      <td>...</td>\n",
       "    </tr>\n",
       "    <tr>\n",
       "      <th>9995</th>\n",
       "      <td>Hyundai</td>\n",
       "      <td>2012</td>\n",
       "      <td>65000</td>\n",
       "      <td>Petrol</td>\n",
       "      <td>Manual</td>\n",
       "      <td>325000.0</td>\n",
       "    </tr>\n",
       "    <tr>\n",
       "      <th>9996</th>\n",
       "      <td>Maruti Suzuki</td>\n",
       "      <td>2018</td>\n",
       "      <td>85000</td>\n",
       "      <td>CNG &amp; Hybrids</td>\n",
       "      <td>Manual</td>\n",
       "      <td>290000.0</td>\n",
       "    </tr>\n",
       "    <tr>\n",
       "      <th>9997</th>\n",
       "      <td>Maruti Suzuki</td>\n",
       "      <td>2010</td>\n",
       "      <td>72000</td>\n",
       "      <td>Petrol</td>\n",
       "      <td>Manual</td>\n",
       "      <td>320000.0</td>\n",
       "    </tr>\n",
       "    <tr>\n",
       "      <th>9998</th>\n",
       "      <td>Tata</td>\n",
       "      <td>2012</td>\n",
       "      <td>70000</td>\n",
       "      <td>Diesel</td>\n",
       "      <td>Manual</td>\n",
       "      <td>185000.0</td>\n",
       "    </tr>\n",
       "    <tr>\n",
       "      <th>9999</th>\n",
       "      <td>Ford</td>\n",
       "      <td>2018</td>\n",
       "      <td>53764</td>\n",
       "      <td>Diesel</td>\n",
       "      <td>Manual</td>\n",
       "      <td>875000.0</td>\n",
       "    </tr>\n",
       "  </tbody>\n",
       "</table>\n",
       "<p>10000 rows × 6 columns</p>\n",
       "</div>"
      ],
      "text/plain": [
       "     Used Car Model  Year of Manufacture  Kilometers Driven      Fuel Type  \\\n",
       "0           Hyundai                 2017               2200         Petrol   \n",
       "1           Hyundai                 2013              91500         Diesel   \n",
       "2              Ford                 2017              36000         Diesel   \n",
       "3             Honda                 2015              90000         Diesel   \n",
       "4     Maruti Suzuki                 2010              40000         Petrol   \n",
       "...             ...                  ...                ...            ...   \n",
       "9995        Hyundai                 2012              65000         Petrol   \n",
       "9996  Maruti Suzuki                 2018              85000  CNG & Hybrids   \n",
       "9997  Maruti Suzuki                 2010              72000         Petrol   \n",
       "9998           Tata                 2012              70000         Diesel   \n",
       "9999           Ford                 2018              53764         Diesel   \n",
       "\n",
       "     Transmission Type  Used Car Price  \n",
       "0               Manual        525000.0  \n",
       "1               Manual        595000.0  \n",
       "2               Manual        775000.0  \n",
       "3               Manual        400000.0  \n",
       "4               Manual        230000.0  \n",
       "...                ...             ...  \n",
       "9995            Manual        325000.0  \n",
       "9996            Manual        290000.0  \n",
       "9997            Manual        320000.0  \n",
       "9998            Manual        185000.0  \n",
       "9999            Manual        875000.0  \n",
       "\n",
       "[10000 rows x 6 columns]"
      ]
     },
     "execution_count": 11,
     "metadata": {},
     "output_type": "execute_result"
    }
   ],
   "source": [
    "df[\"Fuel Type\"]=df[\"Fuel Type\"].apply(lambda x: x if x!='-' else 'Petrol') # replacing with common fuel type in india\n",
    "df[\"Transmission Type\"]=df[\"Transmission Type\"].apply(lambda x: x if x!='-' else 'Manual') # common transmission is manual\n",
    "df[\"Used Car Model\"]=df[\"Used Car Model\"].apply(lambda x: x if x!='-' else 'Hyundai') # common used car model\n",
    "df[\"Kilometers Driven\"]=df[\"Kilometers Driven\"].apply(lambda x: x if x!='-' else 'None')\n",
    "avg_usedcar_price=df[\"Used Car Price\"].mean()\n",
    "df[\"Used Car Price\"]=df[\"Used Car Price\"].apply(lambda x: x if x!='-' else avg_usedcar_price) # average used car prices\n",
    "df"
   ]
  },
  {
   "cell_type": "code",
   "execution_count": 12,
   "id": "5ea7f32f",
   "metadata": {},
   "outputs": [
    {
     "name": "stdout",
     "output_type": "stream",
     "text": [
      "Transmission Type\n",
      "Manual       8598\n",
      "Automatic    1402\n",
      "Name: Transmission Type, dtype: int64\n",
      "====================================================================================================\n",
      "Fuel Type\n",
      "Diesel           5345\n",
      "Petrol           4442\n",
      "CNG & Hybrids     108\n",
      "CNG                57\n",
      "LPG                48\n",
      "Name: Fuel Type, dtype: int64\n",
      "====================================================================================================\n",
      "Year of Manufacture\n",
      "2017    1099\n",
      "2016    1021\n",
      "2018     983\n",
      "2015     975\n",
      "2012     844\n",
      "2014     842\n",
      "2013     802\n",
      "2011     733\n",
      "2019     642\n",
      "2010     519\n",
      "2009     366\n",
      "2008     300\n",
      "2007     207\n",
      "2006     148\n",
      "2020     132\n",
      "2005     112\n",
      "2004      71\n",
      "2003      55\n",
      "2002      45\n",
      "1999      24\n",
      "2000      24\n",
      "2001      16\n",
      "1997      11\n",
      "2021      10\n",
      "1998       9\n",
      "1996       3\n",
      "1994       3\n",
      "1995       2\n",
      "1983       1\n",
      "1991       1\n",
      "Name: Year of Manufacture, dtype: int64\n",
      "====================================================================================================\n"
     ]
    }
   ],
   "source": [
    "for col in value:\n",
    "    print(col)\n",
    "    print(df[col].value_counts())\n",
    "    print(\"=\"*100)"
   ]
  },
  {
   "cell_type": "code",
   "execution_count": 13,
   "id": "e6dec014",
   "metadata": {},
   "outputs": [
    {
     "name": "stdout",
     "output_type": "stream",
     "text": [
      "<class 'pandas.core.frame.DataFrame'>\n",
      "RangeIndex: 10000 entries, 0 to 9999\n",
      "Data columns (total 6 columns):\n",
      " #   Column               Non-Null Count  Dtype  \n",
      "---  ------               --------------  -----  \n",
      " 0   Used Car Model       10000 non-null  object \n",
      " 1   Year of Manufacture  10000 non-null  int32  \n",
      " 2   Kilometers Driven    10000 non-null  int64  \n",
      " 3   Fuel Type            10000 non-null  object \n",
      " 4   Transmission Type    10000 non-null  object \n",
      " 5   Used Car Price       10000 non-null  float64\n",
      "dtypes: float64(1), int32(1), int64(1), object(3)\n",
      "memory usage: 429.8+ KB\n"
     ]
    }
   ],
   "source": [
    "df.info()"
   ]
  },
  {
   "cell_type": "code",
   "execution_count": 14,
   "id": "3662db29",
   "metadata": {},
   "outputs": [
    {
     "data": {
      "text/html": [
       "<div>\n",
       "<style scoped>\n",
       "    .dataframe tbody tr th:only-of-type {\n",
       "        vertical-align: middle;\n",
       "    }\n",
       "\n",
       "    .dataframe tbody tr th {\n",
       "        vertical-align: top;\n",
       "    }\n",
       "\n",
       "    .dataframe thead th {\n",
       "        text-align: right;\n",
       "    }\n",
       "</style>\n",
       "<table border=\"1\" class=\"dataframe\">\n",
       "  <thead>\n",
       "    <tr style=\"text-align: right;\">\n",
       "      <th></th>\n",
       "      <th>Used Car Model</th>\n",
       "      <th>Year of Manufacture</th>\n",
       "      <th>Kilometers Driven</th>\n",
       "      <th>Fuel Type</th>\n",
       "      <th>Transmission Type</th>\n",
       "      <th>Used Car Price</th>\n",
       "    </tr>\n",
       "  </thead>\n",
       "  <tbody>\n",
       "    <tr>\n",
       "      <th>count</th>\n",
       "      <td>10000</td>\n",
       "      <td>10000.00000</td>\n",
       "      <td>1.000000e+04</td>\n",
       "      <td>10000</td>\n",
       "      <td>10000</td>\n",
       "      <td>1.000000e+04</td>\n",
       "    </tr>\n",
       "    <tr>\n",
       "      <th>unique</th>\n",
       "      <td>2055</td>\n",
       "      <td>NaN</td>\n",
       "      <td>NaN</td>\n",
       "      <td>5</td>\n",
       "      <td>2</td>\n",
       "      <td>NaN</td>\n",
       "    </tr>\n",
       "    <tr>\n",
       "      <th>top</th>\n",
       "      <td>Maruti Suzuki</td>\n",
       "      <td>NaN</td>\n",
       "      <td>NaN</td>\n",
       "      <td>Diesel</td>\n",
       "      <td>Manual</td>\n",
       "      <td>NaN</td>\n",
       "    </tr>\n",
       "    <tr>\n",
       "      <th>freq</th>\n",
       "      <td>602</td>\n",
       "      <td>NaN</td>\n",
       "      <td>NaN</td>\n",
       "      <td>5345</td>\n",
       "      <td>8598</td>\n",
       "      <td>NaN</td>\n",
       "    </tr>\n",
       "    <tr>\n",
       "      <th>mean</th>\n",
       "      <td>NaN</td>\n",
       "      <td>2013.69860</td>\n",
       "      <td>6.914651e+04</td>\n",
       "      <td>NaN</td>\n",
       "      <td>NaN</td>\n",
       "      <td>6.608371e+05</td>\n",
       "    </tr>\n",
       "    <tr>\n",
       "      <th>std</th>\n",
       "      <td>NaN</td>\n",
       "      <td>4.02124</td>\n",
       "      <td>5.868048e+04</td>\n",
       "      <td>NaN</td>\n",
       "      <td>NaN</td>\n",
       "      <td>1.204508e+06</td>\n",
       "    </tr>\n",
       "    <tr>\n",
       "      <th>min</th>\n",
       "      <td>NaN</td>\n",
       "      <td>1983.00000</td>\n",
       "      <td>0.000000e+00</td>\n",
       "      <td>NaN</td>\n",
       "      <td>NaN</td>\n",
       "      <td>0.000000e+00</td>\n",
       "    </tr>\n",
       "    <tr>\n",
       "      <th>25%</th>\n",
       "      <td>NaN</td>\n",
       "      <td>2011.00000</td>\n",
       "      <td>3.500000e+04</td>\n",
       "      <td>NaN</td>\n",
       "      <td>NaN</td>\n",
       "      <td>2.549990e+05</td>\n",
       "    </tr>\n",
       "    <tr>\n",
       "      <th>50%</th>\n",
       "      <td>NaN</td>\n",
       "      <td>2014.00000</td>\n",
       "      <td>6.000000e+04</td>\n",
       "      <td>NaN</td>\n",
       "      <td>NaN</td>\n",
       "      <td>4.500000e+05</td>\n",
       "    </tr>\n",
       "    <tr>\n",
       "      <th>75%</th>\n",
       "      <td>NaN</td>\n",
       "      <td>2017.00000</td>\n",
       "      <td>9.000000e+04</td>\n",
       "      <td>NaN</td>\n",
       "      <td>NaN</td>\n",
       "      <td>6.770000e+05</td>\n",
       "    </tr>\n",
       "    <tr>\n",
       "      <th>max</th>\n",
       "      <td>NaN</td>\n",
       "      <td>2021.00000</td>\n",
       "      <td>2.360457e+06</td>\n",
       "      <td>NaN</td>\n",
       "      <td>NaN</td>\n",
       "      <td>6.300000e+07</td>\n",
       "    </tr>\n",
       "  </tbody>\n",
       "</table>\n",
       "</div>"
      ],
      "text/plain": [
       "       Used Car Model  Year of Manufacture  Kilometers Driven Fuel Type  \\\n",
       "count           10000          10000.00000       1.000000e+04     10000   \n",
       "unique           2055                  NaN                NaN         5   \n",
       "top     Maruti Suzuki                  NaN                NaN    Diesel   \n",
       "freq              602                  NaN                NaN      5345   \n",
       "mean              NaN           2013.69860       6.914651e+04       NaN   \n",
       "std               NaN              4.02124       5.868048e+04       NaN   \n",
       "min               NaN           1983.00000       0.000000e+00       NaN   \n",
       "25%               NaN           2011.00000       3.500000e+04       NaN   \n",
       "50%               NaN           2014.00000       6.000000e+04       NaN   \n",
       "75%               NaN           2017.00000       9.000000e+04       NaN   \n",
       "max               NaN           2021.00000       2.360457e+06       NaN   \n",
       "\n",
       "       Transmission Type  Used Car Price  \n",
       "count              10000    1.000000e+04  \n",
       "unique                 2             NaN  \n",
       "top               Manual             NaN  \n",
       "freq                8598             NaN  \n",
       "mean                 NaN    6.608371e+05  \n",
       "std                  NaN    1.204508e+06  \n",
       "min                  NaN    0.000000e+00  \n",
       "25%                  NaN    2.549990e+05  \n",
       "50%                  NaN    4.500000e+05  \n",
       "75%                  NaN    6.770000e+05  \n",
       "max                  NaN    6.300000e+07  "
      ]
     },
     "execution_count": 14,
     "metadata": {},
     "output_type": "execute_result"
    }
   ],
   "source": [
    "df.describe(include=\"all\")"
   ]
  },
  {
   "cell_type": "code",
   "execution_count": 15,
   "id": "d244d7fc",
   "metadata": {},
   "outputs": [
    {
     "data": {
      "image/png": "[encoded data removed]",
      "text/plain": [
       "<Figure size 720x504 with 2 Axes>"
      ]
     },
     "metadata": {
      "needs_background": "light"
     },
     "output_type": "display_data"
    }
   ],
   "source": [
    "# visualizing the statistical description of numeric datatype columns\n",
    "\n",
    "plt.figure(figsize = (10,7))\n",
    "sns.heatmap(round(df.describe()[1:],2), linewidth = 2, annot= True, fmt = \".2f\", cmap=\"hot\")\n",
    "plt.title(\"Satistical Report of Numerical Columns\\n\")\n",
    "plt.xticks(fontsize = 10)\n",
    "plt.yticks(fontsize = 10)\n",
    "plt.show()"
   ]
  },
  {
   "cell_type": "code",
   "execution_count": 16,
   "id": "62fad3f2",
   "metadata": {},
   "outputs": [
    {
     "data": {
      "image/png": "[encoded data removed]",
      "text/plain": [
       "<Figure size 432x288 with 1 Axes>"
      ]
     },
     "metadata": {
      "needs_background": "light"
     },
     "output_type": "display_data"
    },
    {
     "data": {
      "image/png": "[encoded data removed]",
      "text/plain": [
       "<Figure size 432x288 with 1 Axes>"
      ]
     },
     "metadata": {
      "needs_background": "light"
     },
     "output_type": "display_data"
    },
    {
     "data": {
      "image/png": "[encoded data removed]",
      "text/plain": [
       "<Figure size 432x288 with 1 Axes>"
      ]
     },
     "metadata": {
      "needs_background": "light"
     },
     "output_type": "display_data"
    },
    {
     "data": {
      "image/png": "[encoded data removed]",
      "text/plain": [
       "<Figure size 432x288 with 1 Axes>"
      ]
     },
     "metadata": {
      "needs_background": "light"
     },
     "output_type": "display_data"
    },
    {
     "data": {
      "image/png": "[encoded data removed]",
      "text/plain": [
       "<Figure size 432x288 with 1 Axes>"
      ]
     },
     "metadata": {
      "needs_background": "light"
     },
     "output_type": "display_data"
    },
    {
     "data": {
      "image/png": "[encoded data removed]",
      "text/plain": [
       "<Figure size 432x288 with 1 Axes>"
      ]
     },
     "metadata": {
      "needs_background": "light"
     },
     "output_type": "display_data"
    }
   ],
   "source": [
    "for i in df.columns:\n",
    "    sns.histplot(df[i])\n",
    "    plt.show()"
   ]
  },
  {
   "cell_type": "code",
   "execution_count": 17,
   "id": "49b3bed0",
   "metadata": {},
   "outputs": [
    {
     "data": {
      "image/png": "[encoded data removed]",
      "text/plain": [
       "<Figure size 1080x504 with 1 Axes>"
      ]
     },
     "metadata": {
      "needs_background": "light"
     },
     "output_type": "display_data"
    }
   ],
   "source": [
    "plt.figure(figsize=[15,7])\n",
    "purchased_car_per_year = df['Year of Manufacture'].value_counts()\n",
    "purchased_car_per_year.plot(kind='bar')\n",
    "plt.xlabel(\"\\nPurchase Year\")\n",
    "plt.ylabel(\"Purchased Cars\")\n",
    "plt.show()"
   ]
  },
  {
   "cell_type": "code",
   "execution_count": 18,
   "id": "e0669645",
   "metadata": {},
   "outputs": [
    {
     "data": {
      "image/png": "[encoded data removed]",
      "text/plain": [
       "<Figure size 1080x504 with 1 Axes>"
      ]
     },
     "metadata": {
      "needs_background": "light"
     },
     "output_type": "display_data"
    }
   ],
   "source": [
    "y = 'Transmission Type'\n",
    "\n",
    "x = 'Year of Manufacture'\n",
    "plt.figure(figsize=[15,7])\n",
    "sns.barplot(x,y,data=df,orient='h')\n",
    "plt.title(f\"Barplot for {x} column vs {y} column\")\n",
    "plt.show()"
   ]
  },
  {
   "cell_type": "code",
   "execution_count": 19,
   "id": "f241203c",
   "metadata": {},
   "outputs": [
    {
     "data": {
      "image/png": "[encoded data removed]",
      "text/plain": [
       "<Figure size 1080x504 with 1 Axes>"
      ]
     },
     "metadata": {
      "needs_background": "light"
     },
     "output_type": "display_data"
    }
   ],
   "source": [
    "y = 'Transmission Type'\n",
    "\n",
    "x = 'Kilometers Driven'\n",
    "plt.figure(figsize=[15,7])\n",
    "sns.barplot(x,y,data=df,orient='h')\n",
    "plt.title(f\"Barplot for {x} column vs {y} column\")\n",
    "plt.show()"
   ]
  },
  {
   "cell_type": "code",
   "execution_count": 20,
   "id": "1bbeddf3",
   "metadata": {},
   "outputs": [
    {
     "data": {
      "image/png": "[encoded data removed]",
      "text/plain": [
       "<Figure size 1080x504 with 1 Axes>"
      ]
     },
     "metadata": {
      "needs_background": "light"
     },
     "output_type": "display_data"
    }
   ],
   "source": [
    "y = 'Transmission Type'\n",
    "\n",
    "x = 'Used Car Price'\n",
    "plt.figure(figsize=[15,7])\n",
    "sns.barplot(x,y,data=df,orient='h')\n",
    "plt.title(f\"Barplot for {x} column vs {y} column\")\n",
    "plt.show()"
   ]
  },
  {
   "cell_type": "markdown",
   "id": "afc91fa3",
   "metadata": {},
   "source": [
    "Year of manufacture for both manual and automatic gear shifting cars are same\n",
    "\n",
    "Kilometers driven for manual cars are more than that of their automatic counterparts\n",
    "\n",
    "Used Car price for automatic one's are way higher than the manual cars.\n",
    "\n",
    "The number of cars being purchased each year has increased a lot after 2008. Most of the people started preferring to get used cars and all the available online sources helped in expediting genuine process of getting good quality used cars with hassle free Registration Certificate (RC) transfers.\n"
   ]
  },
  {
   "cell_type": "code",
   "execution_count": 21,
   "id": "ce458ae1",
   "metadata": {},
   "outputs": [
    {
     "data": {
      "text/plain": [
       "<Figure size 1080x720 with 0 Axes>"
      ]
     },
     "metadata": {},
     "output_type": "display_data"
    },
    {
     "data": {
      "image/png": "[encoded data removed]",
      "text/plain": [
       "<Figure size 540x540 with 12 Axes>"
      ]
     },
     "metadata": {
      "needs_background": "light"
     },
     "output_type": "display_data"
    }
   ],
   "source": [
    "plt.figure(figsize=(15,10))\n",
    "sns.pairplot(df)\n",
    "plt.show()"
   ]
  },
  {
   "cell_type": "markdown",
   "id": "411ffea2",
   "metadata": {},
   "source": [
    "# Encoding"
   ]
  },
  {
   "cell_type": "code",
   "execution_count": 22,
   "id": "4c424ee3",
   "metadata": {},
   "outputs": [
    {
     "data": {
      "text/html": [
       "<div>\n",
       "<style scoped>\n",
       "    .dataframe tbody tr th:only-of-type {\n",
       "        vertical-align: middle;\n",
       "    }\n",
       "\n",
       "    .dataframe tbody tr th {\n",
       "        vertical-align: top;\n",
       "    }\n",
       "\n",
       "    .dataframe thead th {\n",
       "        text-align: right;\n",
       "    }\n",
       "</style>\n",
       "<table border=\"1\" class=\"dataframe\">\n",
       "  <thead>\n",
       "    <tr style=\"text-align: right;\">\n",
       "      <th></th>\n",
       "      <th>Used Car Model</th>\n",
       "      <th>Year of Manufacture</th>\n",
       "      <th>Kilometers Driven</th>\n",
       "      <th>Fuel Type</th>\n",
       "      <th>Transmission Type</th>\n",
       "      <th>Used Car Price</th>\n",
       "    </tr>\n",
       "  </thead>\n",
       "  <tbody>\n",
       "    <tr>\n",
       "      <th>0</th>\n",
       "      <td>460.0</td>\n",
       "      <td>2017</td>\n",
       "      <td>2200</td>\n",
       "      <td>4.0</td>\n",
       "      <td>1.0</td>\n",
       "      <td>525000.0</td>\n",
       "    </tr>\n",
       "    <tr>\n",
       "      <th>1</th>\n",
       "      <td>460.0</td>\n",
       "      <td>2013</td>\n",
       "      <td>91500</td>\n",
       "      <td>2.0</td>\n",
       "      <td>1.0</td>\n",
       "      <td>595000.0</td>\n",
       "    </tr>\n",
       "    <tr>\n",
       "      <th>2</th>\n",
       "      <td>186.0</td>\n",
       "      <td>2017</td>\n",
       "      <td>36000</td>\n",
       "      <td>2.0</td>\n",
       "      <td>1.0</td>\n",
       "      <td>775000.0</td>\n",
       "    </tr>\n",
       "    <tr>\n",
       "      <th>3</th>\n",
       "      <td>318.0</td>\n",
       "      <td>2015</td>\n",
       "      <td>90000</td>\n",
       "      <td>2.0</td>\n",
       "      <td>1.0</td>\n",
       "      <td>400000.0</td>\n",
       "    </tr>\n",
       "    <tr>\n",
       "      <th>4</th>\n",
       "      <td>1274.0</td>\n",
       "      <td>2010</td>\n",
       "      <td>40000</td>\n",
       "      <td>4.0</td>\n",
       "      <td>1.0</td>\n",
       "      <td>230000.0</td>\n",
       "    </tr>\n",
       "    <tr>\n",
       "      <th>...</th>\n",
       "      <td>...</td>\n",
       "      <td>...</td>\n",
       "      <td>...</td>\n",
       "      <td>...</td>\n",
       "      <td>...</td>\n",
       "      <td>...</td>\n",
       "    </tr>\n",
       "    <tr>\n",
       "      <th>9995</th>\n",
       "      <td>460.0</td>\n",
       "      <td>2012</td>\n",
       "      <td>65000</td>\n",
       "      <td>4.0</td>\n",
       "      <td>1.0</td>\n",
       "      <td>325000.0</td>\n",
       "    </tr>\n",
       "    <tr>\n",
       "      <th>9996</th>\n",
       "      <td>1274.0</td>\n",
       "      <td>2018</td>\n",
       "      <td>85000</td>\n",
       "      <td>1.0</td>\n",
       "      <td>1.0</td>\n",
       "      <td>290000.0</td>\n",
       "    </tr>\n",
       "    <tr>\n",
       "      <th>9997</th>\n",
       "      <td>1274.0</td>\n",
       "      <td>2010</td>\n",
       "      <td>72000</td>\n",
       "      <td>4.0</td>\n",
       "      <td>1.0</td>\n",
       "      <td>320000.0</td>\n",
       "    </tr>\n",
       "    <tr>\n",
       "      <th>9998</th>\n",
       "      <td>1633.0</td>\n",
       "      <td>2012</td>\n",
       "      <td>70000</td>\n",
       "      <td>2.0</td>\n",
       "      <td>1.0</td>\n",
       "      <td>185000.0</td>\n",
       "    </tr>\n",
       "    <tr>\n",
       "      <th>9999</th>\n",
       "      <td>186.0</td>\n",
       "      <td>2018</td>\n",
       "      <td>53764</td>\n",
       "      <td>2.0</td>\n",
       "      <td>1.0</td>\n",
       "      <td>875000.0</td>\n",
       "    </tr>\n",
       "  </tbody>\n",
       "</table>\n",
       "<p>10000 rows × 6 columns</p>\n",
       "</div>"
      ],
      "text/plain": [
       "      Used Car Model  Year of Manufacture  Kilometers Driven  Fuel Type  \\\n",
       "0              460.0                 2017               2200        4.0   \n",
       "1              460.0                 2013              91500        2.0   \n",
       "2              186.0                 2017              36000        2.0   \n",
       "3              318.0                 2015              90000        2.0   \n",
       "4             1274.0                 2010              40000        4.0   \n",
       "...              ...                  ...                ...        ...   \n",
       "9995           460.0                 2012              65000        4.0   \n",
       "9996          1274.0                 2018              85000        1.0   \n",
       "9997          1274.0                 2010              72000        4.0   \n",
       "9998          1633.0                 2012              70000        2.0   \n",
       "9999           186.0                 2018              53764        2.0   \n",
       "\n",
       "      Transmission Type  Used Car Price  \n",
       "0                   1.0        525000.0  \n",
       "1                   1.0        595000.0  \n",
       "2                   1.0        775000.0  \n",
       "3                   1.0        400000.0  \n",
       "4                   1.0        230000.0  \n",
       "...                 ...             ...  \n",
       "9995                1.0        325000.0  \n",
       "9996                1.0        290000.0  \n",
       "9997                1.0        320000.0  \n",
       "9998                1.0        185000.0  \n",
       "9999                1.0        875000.0  \n",
       "\n",
       "[10000 rows x 6 columns]"
      ]
     },
     "execution_count": 22,
     "metadata": {},
     "output_type": "execute_result"
    }
   ],
   "source": [
    "# Ordinal Encoder\n",
    "\n",
    "oe = OrdinalEncoder()\n",
    "def ordinal_encode(df, column):\n",
    "    df[column] = oe.fit_transform(df[column])\n",
    "    return df\n",
    "\n",
    "column=[\"Transmission Type\", \"Fuel Type\", \"Used Car Model\"]\n",
    "df=ordinal_encode(df, column)\n",
    "df"
   ]
  },
  {
   "cell_type": "code",
   "execution_count": 23,
   "id": "3b19d83f",
   "metadata": {},
   "outputs": [
    {
     "data": {
      "text/plain": [
       "(10000, 6)"
      ]
     },
     "execution_count": 23,
     "metadata": {},
     "output_type": "execute_result"
    }
   ],
   "source": [
    "#Checking shape\n",
    "df.shape"
   ]
  },
  {
   "cell_type": "code",
   "execution_count": 24,
   "id": "e4fb5d33",
   "metadata": {},
   "outputs": [
    {
     "data": {
      "image/png": "[encoded data removed]",
      "text/plain": [
       "<Figure size 1440x1440 with 6 Axes>"
      ]
     },
     "metadata": {
      "needs_background": "light"
     },
     "output_type": "display_data"
    }
   ],
   "source": [
    "df.hist(figsize=(20,20))\n",
    "plt.show()"
   ]
  },
  {
   "cell_type": "markdown",
   "id": "a277299d",
   "metadata": {},
   "source": [
    "# Checking Correlation:"
   ]
  },
  {
   "cell_type": "code",
   "execution_count": 25,
   "id": "a867b335",
   "metadata": {},
   "outputs": [
    {
     "data": {
      "text/html": [
       "<div>\n",
       "<style scoped>\n",
       "    .dataframe tbody tr th:only-of-type {\n",
       "        vertical-align: middle;\n",
       "    }\n",
       "\n",
       "    .dataframe tbody tr th {\n",
       "        vertical-align: top;\n",
       "    }\n",
       "\n",
       "    .dataframe thead th {\n",
       "        text-align: right;\n",
       "    }\n",
       "</style>\n",
       "<table border=\"1\" class=\"dataframe\">\n",
       "  <thead>\n",
       "    <tr style=\"text-align: right;\">\n",
       "      <th></th>\n",
       "      <th>Used Car Model</th>\n",
       "      <th>Year of Manufacture</th>\n",
       "      <th>Kilometers Driven</th>\n",
       "      <th>Fuel Type</th>\n",
       "      <th>Transmission Type</th>\n",
       "      <th>Used Car Price</th>\n",
       "    </tr>\n",
       "  </thead>\n",
       "  <tbody>\n",
       "    <tr>\n",
       "      <th>Used Car Model</th>\n",
       "      <td>1.000000</td>\n",
       "      <td>-0.019128</td>\n",
       "      <td>0.098858</td>\n",
       "      <td>-0.094476</td>\n",
       "      <td>0.065399</td>\n",
       "      <td>-0.074662</td>\n",
       "    </tr>\n",
       "    <tr>\n",
       "      <th>Year of Manufacture</th>\n",
       "      <td>-0.019128</td>\n",
       "      <td>1.000000</td>\n",
       "      <td>-0.391988</td>\n",
       "      <td>-0.051844</td>\n",
       "      <td>-0.234196</td>\n",
       "      <td>0.278422</td>\n",
       "    </tr>\n",
       "    <tr>\n",
       "      <th>Kilometers Driven</th>\n",
       "      <td>0.098858</td>\n",
       "      <td>-0.391988</td>\n",
       "      <td>1.000000</td>\n",
       "      <td>-0.245473</td>\n",
       "      <td>0.182361</td>\n",
       "      <td>-0.147619</td>\n",
       "    </tr>\n",
       "    <tr>\n",
       "      <th>Fuel Type</th>\n",
       "      <td>-0.094476</td>\n",
       "      <td>-0.051844</td>\n",
       "      <td>-0.245473</td>\n",
       "      <td>1.000000</td>\n",
       "      <td>-0.028822</td>\n",
       "      <td>-0.111789</td>\n",
       "    </tr>\n",
       "    <tr>\n",
       "      <th>Transmission Type</th>\n",
       "      <td>0.065399</td>\n",
       "      <td>-0.234196</td>\n",
       "      <td>0.182361</td>\n",
       "      <td>-0.028822</td>\n",
       "      <td>1.000000</td>\n",
       "      <td>-0.400351</td>\n",
       "    </tr>\n",
       "    <tr>\n",
       "      <th>Used Car Price</th>\n",
       "      <td>-0.074662</td>\n",
       "      <td>0.278422</td>\n",
       "      <td>-0.147619</td>\n",
       "      <td>-0.111789</td>\n",
       "      <td>-0.400351</td>\n",
       "      <td>1.000000</td>\n",
       "    </tr>\n",
       "  </tbody>\n",
       "</table>\n",
       "</div>"
      ],
      "text/plain": [
       "                     Used Car Model  Year of Manufacture  Kilometers Driven  \\\n",
       "Used Car Model             1.000000            -0.019128           0.098858   \n",
       "Year of Manufacture       -0.019128             1.000000          -0.391988   \n",
       "Kilometers Driven          0.098858            -0.391988           1.000000   \n",
       "Fuel Type                 -0.094476            -0.051844          -0.245473   \n",
       "Transmission Type          0.065399            -0.234196           0.182361   \n",
       "Used Car Price            -0.074662             0.278422          -0.147619   \n",
       "\n",
       "                     Fuel Type  Transmission Type  Used Car Price  \n",
       "Used Car Model       -0.094476           0.065399       -0.074662  \n",
       "Year of Manufacture  -0.051844          -0.234196        0.278422  \n",
       "Kilometers Driven    -0.245473           0.182361       -0.147619  \n",
       "Fuel Type             1.000000          -0.028822       -0.111789  \n",
       "Transmission Type    -0.028822           1.000000       -0.400351  \n",
       "Used Car Price       -0.111789          -0.400351        1.000000  "
      ]
     },
     "execution_count": 25,
     "metadata": {},
     "output_type": "execute_result"
    }
   ],
   "source": [
    "df.corr()"
   ]
  },
  {
   "cell_type": "code",
   "execution_count": 26,
   "id": "aedda8b4",
   "metadata": {},
   "outputs": [
    {
     "data": {
      "image/png": "[encoded data removed]",
      "text/plain": [
       "<Figure size 1080x1080 with 2 Axes>"
      ]
     },
     "metadata": {
      "needs_background": "light"
     },
     "output_type": "display_data"
    }
   ],
   "source": [
    "plt.figure(figsize=(15,15))\n",
    "sns.heatmap(df.corr(),annot=True)\n",
    "plt.show()"
   ]
  },
  {
   "cell_type": "markdown",
   "id": "d6bfcfd1",
   "metadata": {},
   "source": [
    "In the above correlation heatmap we can see that only \"Year of Manufacture\" is positively correlated with our label column while the other feature columns are negatively correlated. Also we see no multi collinearity concerns between the feature variables and will not have to worry about the same.\n",
    "\n"
   ]
  },
  {
   "cell_type": "markdown",
   "id": "9789e533",
   "metadata": {},
   "source": [
    "# Outliers:"
   ]
  },
  {
   "cell_type": "code",
   "execution_count": 27,
   "id": "808f4951",
   "metadata": {},
   "outputs": [
    {
     "data": {
      "image/png": "[encoded data removed]",
      "text/plain": [
       "<Figure size 1008x504 with 6 Axes>"
      ]
     },
     "metadata": {
      "needs_background": "light"
     },
     "output_type": "display_data"
    }
   ],
   "source": [
    "plt.figure(figsize=(14,7))\n",
    "outl_df = df.columns.values\n",
    "for i in range(0, len(outl_df)):\n",
    "    plt.subplot(2, 3, i+1)\n",
    "    ax = sns.boxplot(df[outl_df[i]], color='navy')\n",
    "    plt.tight_layout()"
   ]
  },
  {
   "cell_type": "markdown",
   "id": "49bae10d",
   "metadata": {},
   "source": [
    "We can see, there are outliers present in the dataset."
   ]
  },
  {
   "cell_type": "code",
   "execution_count": 28,
   "id": "221acdb1",
   "metadata": {},
   "outputs": [
    {
     "name": "stdout",
     "output_type": "stream",
     "text": [
      "Shape of the dataframe before removing outliers:  (10000, 6)\n",
      "Shape of the dataframe after removing outliers:  (9660, 6)\n",
      "Percentage of data loss post outlier removal:  3.4000000000000004\n"
     ]
    }
   ],
   "source": [
    "# Using Z Score to remove outliers\n",
    "\n",
    "z = np.abs(zscore(df))\n",
    "threshold = 3\n",
    "df1 = df[(z<3).all(axis = 1)]\n",
    "\n",
    "print (\"Shape of the dataframe before removing outliers: \", df.shape)\n",
    "print (\"Shape of the dataframe after removing outliers: \", df1.shape)\n",
    "print (\"Percentage of data loss post outlier removal: \", (df.shape[0]-df1.shape[0])/df.shape[0]*100)\n",
    "\n",
    "df=df1.copy() # reassigning the changed dataframe name to our original dataframe name"
   ]
  },
  {
   "cell_type": "code",
   "execution_count": 29,
   "id": "dd7c2f85",
   "metadata": {},
   "outputs": [
    {
     "data": {
      "image/png": "[encoded data removed]",
      "text/plain": [
       "<Figure size 1008x504 with 6 Axes>"
      ]
     },
     "metadata": {
      "needs_background": "light"
     },
     "output_type": "display_data"
    }
   ],
   "source": [
    "plt.style.use('fast')\n",
    "\n",
    "fig, ax = plt.subplots(ncols=3, nrows=2, figsize=(14,7))\n",
    "index = 0\n",
    "ax = ax.flatten()\n",
    "for col, value in df.items():\n",
    "    sns.boxplot(y=col, data=df, ax=ax[index], color=\"purple\")\n",
    "    index += 1\n",
    "plt.tight_layout(pad=0.4, w_pad=0.4, h_pad=1.0)\n",
    "plt.show()"
   ]
  },
  {
   "cell_type": "markdown",
   "id": "b774fe6a",
   "metadata": {},
   "source": [
    "Now we can see there is no outlier in the data."
   ]
  },
  {
   "cell_type": "markdown",
   "id": "ba70f8f1",
   "metadata": {},
   "source": [
    "# Skewness"
   ]
  },
  {
   "cell_type": "code",
   "execution_count": 30,
   "id": "a77a0116",
   "metadata": {},
   "outputs": [
    {
     "data": {
      "text/plain": [
       "Used Car Model        -0.050582\n",
       "Year of Manufacture   -0.654635\n",
       "Kilometers Driven      0.839812\n",
       "Fuel Type              0.064673\n",
       "Transmission Type     -2.214140\n",
       "Used Car Price         3.132993\n",
       "dtype: float64"
      ]
     },
     "execution_count": 30,
     "metadata": {},
     "output_type": "execute_result"
    }
   ],
   "source": [
    "df.skew()"
   ]
  },
  {
   "cell_type": "code",
   "execution_count": 31,
   "id": "80a79f37",
   "metadata": {},
   "outputs": [
    {
     "data": {
      "image/png": "[encoded data removed]",
      "text/plain": [
       "<Figure size 1008x504 with 6 Axes>"
      ]
     },
     "metadata": {
      "needs_background": "light"
     },
     "output_type": "display_data"
    }
   ],
   "source": [
    "plt.figure(figsize=(14,7))\n",
    "for i in range(0, len(outl_df)):\n",
    "    plt.subplot(2, 3, i+1)\n",
    "    ax = sns.distplot(df[outl_df[i]], color='blue')\n",
    "    plt.tight_layout()"
   ]
  },
  {
   "cell_type": "markdown",
   "id": "a2ade251",
   "metadata": {},
   "source": [
    "We can observe skewness in the data."
   ]
  },
  {
   "cell_type": "code",
   "execution_count": 32,
   "id": "b9ac9b4c",
   "metadata": {},
   "outputs": [],
   "source": [
    "# Using Log Transform to fix skewness\n",
    "\n",
    "df_log=df.copy()\n",
    "for col in df_log.columns:\n",
    "    if df_log.skew().loc[col]>0.55:\n",
    "        df_log[col]=np.log1p(df_log[col])"
   ]
  },
  {
   "cell_type": "code",
   "execution_count": 33,
   "id": "ffe61bb9",
   "metadata": {},
   "outputs": [
    {
     "data": {
      "image/png": "[encoded data removed]",
      "text/plain": [
       "<Figure size 1008x504 with 6 Axes>"
      ]
     },
     "metadata": {
      "needs_background": "light"
     },
     "output_type": "display_data"
    }
   ],
   "source": [
    "fig, ax = plt.subplots(ncols=3, nrows=2, figsize=(14,7))\n",
    "index = 0\n",
    "ax = ax.flatten()\n",
    "for col, value in df_log.items():\n",
    "    sns.distplot(value, ax=ax[index], hist=False, color=\"b\", kde_kws={\"shade\": True})\n",
    "    index += 1\n",
    "plt.tight_layout(pad=0.4, w_pad=0.4, h_pad=1.0)\n",
    "plt.show()"
   ]
  },
  {
   "cell_type": "markdown",
   "id": "b1acf0f9",
   "metadata": {},
   "source": [
    "With the help of above distribution plots I see that almost all the columns now have a bell shape curve retaining the normal distribution form."
   ]
  },
  {
   "cell_type": "code",
   "execution_count": 34,
   "id": "d9e81c07",
   "metadata": {},
   "outputs": [],
   "source": [
    "X = df_log.drop('Used Car Price', axis=1)\n",
    "Y = df_log['Used Car Price']"
   ]
  },
  {
   "cell_type": "markdown",
   "id": "a3cb58bf",
   "metadata": {},
   "source": [
    "# Feature Scaling"
   ]
  },
  {
   "cell_type": "code",
   "execution_count": 35,
   "id": "407c504b",
   "metadata": {},
   "outputs": [
    {
     "data": {
      "text/html": [
       "<div>\n",
       "<style scoped>\n",
       "    .dataframe tbody tr th:only-of-type {\n",
       "        vertical-align: middle;\n",
       "    }\n",
       "\n",
       "    .dataframe tbody tr th {\n",
       "        vertical-align: top;\n",
       "    }\n",
       "\n",
       "    .dataframe thead th {\n",
       "        text-align: right;\n",
       "    }\n",
       "</style>\n",
       "<table border=\"1\" class=\"dataframe\">\n",
       "  <thead>\n",
       "    <tr style=\"text-align: right;\">\n",
       "      <th></th>\n",
       "      <th>Used Car Model</th>\n",
       "      <th>Year of Manufacture</th>\n",
       "      <th>Kilometers Driven</th>\n",
       "      <th>Fuel Type</th>\n",
       "      <th>Transmission Type</th>\n",
       "    </tr>\n",
       "  </thead>\n",
       "  <tbody>\n",
       "    <tr>\n",
       "      <th>0</th>\n",
       "      <td>-1.049778</td>\n",
       "      <td>0.859016</td>\n",
       "      <td>-2.676651</td>\n",
       "      <td>1.092489</td>\n",
       "      <td>0.38482</td>\n",
       "    </tr>\n",
       "    <tr>\n",
       "      <th>1</th>\n",
       "      <td>-1.049778</td>\n",
       "      <td>-0.216389</td>\n",
       "      <td>0.540315</td>\n",
       "      <td>-0.853025</td>\n",
       "      <td>0.38482</td>\n",
       "    </tr>\n",
       "    <tr>\n",
       "      <th>2</th>\n",
       "      <td>-1.546103</td>\n",
       "      <td>0.859016</td>\n",
       "      <td>-0.264741</td>\n",
       "      <td>-0.853025</td>\n",
       "      <td>0.38482</td>\n",
       "    </tr>\n",
       "    <tr>\n",
       "      <th>3</th>\n",
       "      <td>-1.306997</td>\n",
       "      <td>0.321313</td>\n",
       "      <td>0.526049</td>\n",
       "      <td>-0.853025</td>\n",
       "      <td>0.38482</td>\n",
       "    </tr>\n",
       "    <tr>\n",
       "      <th>4</th>\n",
       "      <td>0.424706</td>\n",
       "      <td>-1.022943</td>\n",
       "      <td>-0.173812</td>\n",
       "      <td>1.092489</td>\n",
       "      <td>0.38482</td>\n",
       "    </tr>\n",
       "  </tbody>\n",
       "</table>\n",
       "</div>"
      ],
      "text/plain": [
       "   Used Car Model  Year of Manufacture  Kilometers Driven  Fuel Type  \\\n",
       "0       -1.049778             0.859016          -2.676651   1.092489   \n",
       "1       -1.049778            -0.216389           0.540315  -0.853025   \n",
       "2       -1.546103             0.859016          -0.264741  -0.853025   \n",
       "3       -1.306997             0.321313           0.526049  -0.853025   \n",
       "4        0.424706            -1.022943          -0.173812   1.092489   \n",
       "\n",
       "   Transmission Type  \n",
       "0            0.38482  \n",
       "1            0.38482  \n",
       "2            0.38482  \n",
       "3            0.38482  \n",
       "4            0.38482  "
      ]
     },
     "execution_count": 35,
     "metadata": {},
     "output_type": "execute_result"
    }
   ],
   "source": [
    "scaler = StandardScaler()\n",
    "X = pd.DataFrame(scaler.fit_transform(X), columns=X.columns)\n",
    "X.head()"
   ]
  },
  {
   "cell_type": "markdown",
   "id": "95cebbbb",
   "metadata": {},
   "source": [
    "# Finding the best random state"
   ]
  },
  {
   "cell_type": "code",
   "execution_count": 36,
   "id": "fede4585",
   "metadata": {},
   "outputs": [
    {
     "name": "stdout",
     "output_type": "stream",
     "text": [
      "Best R2 score is 57.550268240713386 on Random State 251\n"
     ]
    }
   ],
   "source": [
    "maxAccu=0\n",
    "maxRS=0\n",
    "\n",
    "for i in range(1, 1000):\n",
    "    X_train, X_test, Y_train, Y_test = train_test_split(X, Y, test_size=0.25, random_state=i)\n",
    "    lr=LinearRegression()\n",
    "    lr.fit(X_train, Y_train)\n",
    "    pred = lr.predict(X_test)\n",
    "    r2 = r2_score(Y_test, pred)\n",
    "    \n",
    "    if r2>maxAccu:\n",
    "        maxAccu=r2\n",
    "        maxRS=i\n",
    "\n",
    "print(\"Best R2 score is\", maxAccu*100,\"on Random State\", maxRS)"
   ]
  },
  {
   "cell_type": "code",
   "execution_count": 37,
   "id": "d3dfac27",
   "metadata": {},
   "outputs": [],
   "source": [
    "# Regression Model Function\n",
    "\n",
    "def reg(model, X, Y):\n",
    "    X_train, X_test, Y_train, Y_test = train_test_split(X, Y, test_size=0.25, random_state=251)\n",
    "    \n",
    "    # Training the model\n",
    "    model.fit(X_train, Y_train)\n",
    "    \n",
    "    # Predicting Y_test\n",
    "    pred = model.predict(X_test)\n",
    "    \n",
    "    # RMSE - a lower RMSE score is better than a higher one\n",
    "    rmse = mean_squared_error(Y_test, pred, squared=False)\n",
    "    print(\"RMSE Score is:\", rmse)\n",
    "    \n",
    "    # R2 score\n",
    "    r2 = r2_score(Y_test, pred, multioutput='variance_weighted')*100\n",
    "    print(\"R2 Score is:\", r2)\n",
    "    \n",
    "    # Cross Validation Score\n",
    "    cv_score = (cross_val_score(model, X, Y, cv=5).mean())*100\n",
    "    print(\"Cross Validation Score:\", cv_score)\n",
    "    \n",
    "    # Result of r2 score minus cv score\n",
    "    result = r2 - cv_score\n",
    "    print(\"R2 Score - Cross Validation Score is\", result)"
   ]
  },
  {
   "cell_type": "code",
   "execution_count": 38,
   "id": "759a78e3",
   "metadata": {},
   "outputs": [
    {
     "name": "stdout",
     "output_type": "stream",
     "text": [
      "RMSE Score is: 0.6055563352393261\n",
      "R2 Score is: 57.550268240713386\n",
      "Cross Validation Score: 52.8753376052149\n",
      "R2 Score - Cross Validation Score is 4.674930635498484\n"
     ]
    }
   ],
   "source": [
    "# Linear Regression Model\n",
    "\n",
    "model=LinearRegression()\n",
    "reg(model, X, Y)"
   ]
  },
  {
   "cell_type": "code",
   "execution_count": 39,
   "id": "4c7923f1",
   "metadata": {},
   "outputs": [
    {
     "name": "stdout",
     "output_type": "stream",
     "text": [
      "RMSE Score is: 0.6054680731075804\n",
      "R2 Score is: 57.562641757596765\n",
      "Cross Validation Score: 52.93925429374748\n",
      "R2 Score - Cross Validation Score is 4.623387463849284\n"
     ]
    }
   ],
   "source": [
    "# Ridge Regularization\n",
    "\n",
    "model=Ridge(alpha=1e-2, normalize=True)\n",
    "reg(model, X, Y)"
   ]
  },
  {
   "cell_type": "code",
   "execution_count": 40,
   "id": "3d666f28",
   "metadata": {},
   "outputs": [
    {
     "name": "stdout",
     "output_type": "stream",
     "text": [
      "RMSE Score is: 0.6090026450103327\n",
      "R2 Score is: 57.065718051997564\n",
      "Cross Validation Score: 52.23304894607056\n",
      "R2 Score - Cross Validation Score is 4.832669105927003\n"
     ]
    }
   ],
   "source": [
    "# Support Vector Regression\n",
    "\n",
    "model=SVR(C=1.0, epsilon=0.2, kernel='poly', gamma='auto')\n",
    "reg(model, X, Y)"
   ]
  },
  {
   "cell_type": "code",
   "execution_count": 41,
   "id": "c6769a6f",
   "metadata": {},
   "outputs": [
    {
     "name": "stdout",
     "output_type": "stream",
     "text": [
      "RMSE Score is: 0.3994657881385297\n",
      "R2 Score is: 81.52752756070772\n",
      "Cross Validation Score: 77.13651717434307\n",
      "R2 Score - Cross Validation Score is 4.3910103863646555\n"
     ]
    }
   ],
   "source": [
    "# Decision Tree Regressor\n",
    "\n",
    "model=DecisionTreeRegressor(criterion=\"poisson\", random_state=111)\n",
    "reg(model, X, Y)"
   ]
  },
  {
   "cell_type": "code",
   "execution_count": 42,
   "id": "2ba4fe34",
   "metadata": {},
   "outputs": [
    {
     "name": "stdout",
     "output_type": "stream",
     "text": [
      "RMSE Score is: 0.6578919416139654\n",
      "R2 Score is: 49.89570220461564\n",
      "Cross Validation Score: 47.28624594828987\n",
      "R2 Score - Cross Validation Score is 2.609456256325771\n"
     ]
    }
   ],
   "source": [
    "# Random Forest Regressor\n",
    "\n",
    "model=RandomForestRegressor(max_depth=2, max_features=\"sqrt\")\n",
    "reg(model, X, Y)"
   ]
  },
  {
   "cell_type": "code",
   "execution_count": 43,
   "id": "465dbe17",
   "metadata": {},
   "outputs": [
    {
     "name": "stdout",
     "output_type": "stream",
     "text": [
      "RMSE Score is: 0.3648869894070707\n",
      "R2 Score is: 84.58716239042191\n",
      "Cross Validation Score: 80.38905060445025\n",
      "R2 Score - Cross Validation Score is 4.198111785971662\n"
     ]
    }
   ],
   "source": [
    "# Extra Trees Regressor\n",
    "\n",
    "model=ExtraTreesRegressor(n_estimators=200, max_features='sqrt', n_jobs=6)\n",
    "reg(model, X, Y)"
   ]
  },
  {
   "cell_type": "markdown",
   "id": "d224a4db",
   "metadata": {},
   "source": [
    "As we can see, we are getting the best R2 score at Decision Trees Regressor.We are proceeding with this model.\n"
   ]
  },
  {
   "cell_type": "markdown",
   "id": "0e8e6f97",
   "metadata": {},
   "source": [
    "# Hyper parameter tuning"
   ]
  },
  {
   "cell_type": "code",
   "execution_count": 44,
   "id": "1bda2570",
   "metadata": {},
   "outputs": [
    {
     "data": {
      "text/plain": [
       "0.7168252446549023"
      ]
     },
     "execution_count": 44,
     "metadata": {},
     "output_type": "execute_result"
    }
   ],
   "source": [
    "# Choosing Decision Trees Regressor\n",
    "\n",
    "fmod_param = {'criterion' : ['squared_error', 'friedman_mse', 'absolute_error', 'poisson'],\n",
    "              'max_depth' : [1,2,3,4,5,6,7,8,9,10,15,17,18,19,20],\n",
    "              'random_state' : [42, 251, 340],\n",
    "              'splitter' : ['best', 'random'],\n",
    "              'min_samples_split' : [1,2,3,4,5,6,7,8,9,10],\n",
    "              'max_features': ['auto', 'sqrt', 'log2'],\n",
    "              'min_samples_leaf':[1,2,3,4,5]\n",
    "             }\n",
    "\n",
    "GSCV = GridSearchCV(DecisionTreeRegressor(), fmod_param, cv=5)\n",
    "GSCV.fit(X_train,Y_train)\n",
    "GSCV.best_params_\n",
    "\n",
    "GSCV_pred=GSCV.best_estimator_.predict(X_test)\n",
    "r2_score(Y_test, GSCV_pred)"
   ]
  },
  {
   "cell_type": "code",
   "execution_count": 49,
   "id": "b90fd4ed",
   "metadata": {},
   "outputs": [
    {
     "data": {
      "text/plain": [
       "{'criterion': 'squared_error',\n",
       " 'max_depth': 18,\n",
       " 'max_features': 'auto',\n",
       " 'min_samples_leaf': 2,\n",
       " 'min_samples_split': 7,\n",
       " 'random_state': 251,\n",
       " 'splitter': 'best'}"
      ]
     },
     "execution_count": 49,
     "metadata": {},
     "output_type": "execute_result"
    }
   ],
   "source": [
    "GSCV.best_params_"
   ]
  },
  {
   "cell_type": "code",
   "execution_count": 45,
   "id": "0fe0d74a",
   "metadata": {},
   "outputs": [
    {
     "name": "stdout",
     "output_type": "stream",
     "text": [
      "R2 score for the Best Model is: 72.17968167022254\n"
     ]
    }
   ],
   "source": [
    "Final_Model = DecisionTreeRegressor(criterion=\"squared_error\", random_state=221,min_samples_split=2,min_samples_leaf=1)\n",
    "Model_Training = Final_Model.fit(X_train, Y_train)\n",
    "fmod_pred = Final_Model.predict(X_test)\n",
    "fmod_r2 = r2_score(Y_test, fmod_pred, multioutput='variance_weighted')*100\n",
    "print(\"R2 score for the Best Model is:\", fmod_r2)"
   ]
  },
  {
   "cell_type": "markdown",
   "id": "9794de67",
   "metadata": {},
   "source": [
    "# Prediction of Used Car Price"
   ]
  },
  {
   "cell_type": "code",
   "execution_count": 46,
   "id": "e33e89eb",
   "metadata": {},
   "outputs": [
    {
     "data": {
      "text/html": [
       "<div>\n",
       "<style scoped>\n",
       "    .dataframe tbody tr th:only-of-type {\n",
       "        vertical-align: middle;\n",
       "    }\n",
       "\n",
       "    .dataframe tbody tr th {\n",
       "        vertical-align: top;\n",
       "    }\n",
       "\n",
       "    .dataframe thead th {\n",
       "        text-align: right;\n",
       "    }\n",
       "</style>\n",
       "<table border=\"1\" class=\"dataframe\">\n",
       "  <thead>\n",
       "    <tr style=\"text-align: right;\">\n",
       "      <th></th>\n",
       "      <th>original</th>\n",
       "      <th>Predicted</th>\n",
       "    </tr>\n",
       "  </thead>\n",
       "  <tbody>\n",
       "    <tr>\n",
       "      <th>0</th>\n",
       "      <td>13.171155</td>\n",
       "      <td>13.161586</td>\n",
       "    </tr>\n",
       "    <tr>\n",
       "      <th>1</th>\n",
       "      <td>14.690980</td>\n",
       "      <td>14.690980</td>\n",
       "    </tr>\n",
       "    <tr>\n",
       "      <th>2</th>\n",
       "      <td>12.154785</td>\n",
       "      <td>12.611541</td>\n",
       "    </tr>\n",
       "    <tr>\n",
       "      <th>3</th>\n",
       "      <td>13.235694</td>\n",
       "      <td>13.173116</td>\n",
       "    </tr>\n",
       "    <tr>\n",
       "      <th>4</th>\n",
       "      <td>13.321216</td>\n",
       "      <td>13.321216</td>\n",
       "    </tr>\n",
       "    <tr>\n",
       "      <th>...</th>\n",
       "      <td>...</td>\n",
       "      <td>...</td>\n",
       "    </tr>\n",
       "    <tr>\n",
       "      <th>2410</th>\n",
       "      <td>12.807655</td>\n",
       "      <td>12.750151</td>\n",
       "    </tr>\n",
       "    <tr>\n",
       "      <th>2411</th>\n",
       "      <td>13.017005</td>\n",
       "      <td>13.071072</td>\n",
       "    </tr>\n",
       "    <tr>\n",
       "      <th>2412</th>\n",
       "      <td>13.270785</td>\n",
       "      <td>13.253161</td>\n",
       "    </tr>\n",
       "    <tr>\n",
       "      <th>2413</th>\n",
       "      <td>11.695255</td>\n",
       "      <td>12.264346</td>\n",
       "    </tr>\n",
       "    <tr>\n",
       "      <th>2414</th>\n",
       "      <td>12.323860</td>\n",
       "      <td>11.849405</td>\n",
       "    </tr>\n",
       "  </tbody>\n",
       "</table>\n",
       "<p>2415 rows × 2 columns</p>\n",
       "</div>"
      ],
      "text/plain": [
       "       original  Predicted\n",
       "0     13.171155  13.161586\n",
       "1     14.690980  14.690980\n",
       "2     12.154785  12.611541\n",
       "3     13.235694  13.173116\n",
       "4     13.321216  13.321216\n",
       "...         ...        ...\n",
       "2410  12.807655  12.750151\n",
       "2411  13.017005  13.071072\n",
       "2412  13.270785  13.253161\n",
       "2413  11.695255  12.264346\n",
       "2414  12.323860  11.849405\n",
       "\n",
       "[2415 rows x 2 columns]"
      ]
     },
     "execution_count": 46,
     "metadata": {},
     "output_type": "execute_result"
    }
   ],
   "source": [
    "import numpy as np\n",
    "a=np.array(Y_test)\n",
    "df_com=pd.DataFrame({\"original\":a,\"Predicted\":fmod_pred},index=range(len(a)))\n",
    "df_com"
   ]
  },
  {
   "cell_type": "code",
   "execution_count": 47,
   "id": "e7cb4e76",
   "metadata": {},
   "outputs": [
    {
     "data": {
      "image/png": "[encoded data removed]",
      "text/plain": [
       "<Figure size 720x720 with 1 Axes>"
      ]
     },
     "metadata": {
      "needs_background": "light"
     },
     "output_type": "display_data"
    }
   ],
   "source": [
    "plt.figure(figsize=(10,10))\n",
    "plt.scatter(Y_test, fmod_pred, c='crimson')\n",
    "plt.yscale('log')\n",
    "plt.xscale('log')\n",
    "p1 = max(max(fmod_pred), max(a))\n",
    "p2 = min(min(fmod_pred), min(a))\n",
    "plt.plot([p1, p2], [p1, p2], 'b-')\n",
    "plt.xlabel('Actual Price', fontsize=15)\n",
    "plt.ylabel('Predicted Price', fontsize=15)\n",
    "plt.axis('equal')\n",
    "plt.show()"
   ]
  },
  {
   "cell_type": "markdown",
   "id": "6e7a08dc",
   "metadata": {},
   "source": [
    "# Saving the best model"
   ]
  },
  {
   "cell_type": "code",
   "execution_count": 48,
   "id": "9dd99e01",
   "metadata": {},
   "outputs": [
    {
     "data": {
      "text/plain": [
       "['CarPricePrediction.pkl']"
      ]
     },
     "execution_count": 48,
     "metadata": {},
     "output_type": "execute_result"
    }
   ],
   "source": [
    "filename = \"CarPricePrediction.pkl\"\n",
    "joblib.dump(Final_Model, filename)"
   ]
  }
 ],
 "metadata": {
  "kernelspec": {
   "display_name": "Python 3 (ipykernel)",
   "language": "python",
   "name": "python3"
  },
  "language_info": {
   "codemirror_mode": {
    "name": "ipython",
    "version": 3
   },
   "file_extension": ".py",
   "mimetype": "text/x-python",
   "name": "python",
   "nbconvert_exporter": "python",
   "pygments_lexer": "ipython3",
   "version": "3.9.12"
  }
 },
 "nbformat": 4,
 "nbformat_minor": 5
}
